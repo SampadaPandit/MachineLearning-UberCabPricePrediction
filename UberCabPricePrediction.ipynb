{
  "nbformat": 4,
  "nbformat_minor": 0,
  "metadata": {
    "colab": {
      "provenance": [],
      "authorship_tag": "ABX9TyPer15qBsEDuHG9aLSeW3W9",
      "include_colab_link": true
    },
    "kernelspec": {
      "name": "python3",
      "display_name": "Python 3"
    },
    "language_info": {
      "name": "python"
    }
  },
  "cells": [
    {
      "cell_type": "markdown",
      "metadata": {
        "id": "view-in-github",
        "colab_type": "text"
      },
      "source": [
        "<a href=\"https://colab.research.google.com/github/SampadaPandit/MachineLearning-UberCabPricePrediction/blob/master/UberCabPricePrediction.ipynb\" target=\"_parent\"><img src=\"https://colab.research.google.com/assets/colab-badge.svg\" alt=\"Open In Colab\"/></a>"
      ]
    },
    {
      "cell_type": "markdown",
      "source": [
        "# **Project Outline**\n",
        "\n",
        "On a Uber Dataset, Let's try to predict the price of a ride based on certain weather conditions. \n",
        "\n",
        "Linear Regression model is being used to make predictions.\n",
        "\n",
        "Don't know what Liner Regression is check out my blog - https://medium.com/@sampada_pandit/linear-regression-d3f678d13dc9"
      ],
      "metadata": {
        "id": "-O_9E9ge4RjN"
      }
    },
    {
      "cell_type": "markdown",
      "source": [
        "***Importing Libraries***"
      ],
      "metadata": {
        "id": "DUfbFcpf52s-"
      }
    },
    {
      "cell_type": "code",
      "source": [
        "import numpy as np\n",
        "import pandas as pd\n",
        "\n",
        "from sklearn.model_selection import train_test_split\n",
        "from sklearn.preprocessing import StandardScaler\n",
        "\n",
        "from sklearn.linear_model import LinearRegression"
      ],
      "metadata": {
        "id": "XWOsOj1D51dM"
      },
      "execution_count": 1,
      "outputs": []
    },
    {
      "cell_type": "markdown",
      "source": [
        "***Reading the csv files***"
      ],
      "metadata": {
        "id": "Fe5WKjzSKB_X"
      }
    },
    {
      "cell_type": "code",
      "source": [
        "cab_rides =pd.read_csv()"
      ],
      "metadata": {
        "id": "YK8yhZL7KG2d"
      },
      "execution_count": null,
      "outputs": []
    }
  ]
}